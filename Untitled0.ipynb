{
  "nbformat": 4,
  "nbformat_minor": 0,
  "metadata": {
    "colab": {
      "name": "Untitled0.ipynb",
      "provenance": []
    },
    "kernelspec": {
      "name": "python3",
      "display_name": "Python 3"
    },
    "language_info": {
      "name": "python"
    }
  },
  "cells": [
    {
      "cell_type": "code",
      "metadata": {
        "id": "RspxacUNXVna",
        "colab": {
          "base_uri": "https://localhost:8080/"
        },
        "outputId": "c8b00f67-4a78-4d65-ccad-d68ca48d9358"
      },
      "source": [
        "print(\"welcome to python world!let's start coding\")"
      ],
      "execution_count": 1,
      "outputs": [
        {
          "output_type": "stream",
          "text": [
            "welcome to python world!let's start coding\n"
          ],
          "name": "stdout"
        }
      ]
    }
  ]
}